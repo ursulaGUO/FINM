{
 "cells": [
  {
   "cell_type": "markdown",
   "metadata": {},
   "source": [
    "# Homework #1: Mean-Variance Optimisation\n",
    "### Polly Ren, FINM 25000, 6/20/2022"
   ]
  },
  {
   "cell_type": "code",
   "execution_count": 1,
   "metadata": {},
   "outputs": [],
   "source": [
    "import pandas as pd"
   ]
  },
  {
   "cell_type": "code",
   "execution_count": 2,
   "metadata": {},
   "outputs": [
    {
     "data": {
      "text/html": [
       "<div>\n",
       "<style scoped>\n",
       "    .dataframe tbody tr th:only-of-type {\n",
       "        vertical-align: middle;\n",
       "    }\n",
       "\n",
       "    .dataframe tbody tr th {\n",
       "        vertical-align: top;\n",
       "    }\n",
       "\n",
       "    .dataframe thead th {\n",
       "        text-align: right;\n",
       "    }\n",
       "</style>\n",
       "<table border=\"1\" class=\"dataframe\">\n",
       "  <thead>\n",
       "    <tr style=\"text-align: right;\">\n",
       "      <th></th>\n",
       "      <th>BWX</th>\n",
       "      <th>DBC</th>\n",
       "      <th>EEM</th>\n",
       "      <th>EFA</th>\n",
       "      <th>HYG</th>\n",
       "      <th>IEF</th>\n",
       "      <th>IYR</th>\n",
       "      <th>PSP</th>\n",
       "      <th>QAI</th>\n",
       "      <th>SHV</th>\n",
       "      <th>SPY</th>\n",
       "      <th>TIP</th>\n",
       "    </tr>\n",
       "    <tr>\n",
       "      <th>Date</th>\n",
       "      <th></th>\n",
       "      <th></th>\n",
       "      <th></th>\n",
       "      <th></th>\n",
       "      <th></th>\n",
       "      <th></th>\n",
       "      <th></th>\n",
       "      <th></th>\n",
       "      <th></th>\n",
       "      <th></th>\n",
       "      <th></th>\n",
       "      <th></th>\n",
       "    </tr>\n",
       "  </thead>\n",
       "  <tbody>\n",
       "    <tr>\n",
       "      <th>2009-04-30</th>\n",
       "      <td>0.008993</td>\n",
       "      <td>-0.001000</td>\n",
       "      <td>0.155582</td>\n",
       "      <td>0.115190</td>\n",
       "      <td>0.138461</td>\n",
       "      <td>-0.027452</td>\n",
       "      <td>0.296151</td>\n",
       "      <td>0.230202</td>\n",
       "      <td>0.022882</td>\n",
       "      <td>0.000553</td>\n",
       "      <td>0.099347</td>\n",
       "      <td>-0.017951</td>\n",
       "    </tr>\n",
       "    <tr>\n",
       "      <th>2009-05-31</th>\n",
       "      <td>0.053672</td>\n",
       "      <td>0.162663</td>\n",
       "      <td>0.159400</td>\n",
       "      <td>0.131918</td>\n",
       "      <td>0.028554</td>\n",
       "      <td>-0.020773</td>\n",
       "      <td>0.022727</td>\n",
       "      <td>0.053893</td>\n",
       "      <td>0.027865</td>\n",
       "      <td>-0.000471</td>\n",
       "      <td>0.058453</td>\n",
       "      <td>0.019966</td>\n",
       "    </tr>\n",
       "    <tr>\n",
       "      <th>2009-06-30</th>\n",
       "      <td>0.005149</td>\n",
       "      <td>-0.026259</td>\n",
       "      <td>-0.022495</td>\n",
       "      <td>-0.014049</td>\n",
       "      <td>0.033517</td>\n",
       "      <td>-0.005571</td>\n",
       "      <td>-0.024863</td>\n",
       "      <td>0.045449</td>\n",
       "      <td>-0.003436</td>\n",
       "      <td>0.000599</td>\n",
       "      <td>-0.000655</td>\n",
       "      <td>0.001981</td>\n",
       "    </tr>\n",
       "    <tr>\n",
       "      <th>2009-07-31</th>\n",
       "      <td>0.031284</td>\n",
       "      <td>0.018568</td>\n",
       "      <td>0.110146</td>\n",
       "      <td>0.100415</td>\n",
       "      <td>0.069191</td>\n",
       "      <td>0.008317</td>\n",
       "      <td>0.105799</td>\n",
       "      <td>0.143247</td>\n",
       "      <td>0.015326</td>\n",
       "      <td>-0.000027</td>\n",
       "      <td>0.074606</td>\n",
       "      <td>0.000879</td>\n",
       "    </tr>\n",
       "    <tr>\n",
       "      <th>2009-08-31</th>\n",
       "      <td>0.007628</td>\n",
       "      <td>-0.040365</td>\n",
       "      <td>-0.013136</td>\n",
       "      <td>0.045031</td>\n",
       "      <td>-0.016969</td>\n",
       "      <td>0.007633</td>\n",
       "      <td>0.131938</td>\n",
       "      <td>0.033413</td>\n",
       "      <td>-0.004151</td>\n",
       "      <td>0.000435</td>\n",
       "      <td>0.036940</td>\n",
       "      <td>0.008414</td>\n",
       "    </tr>\n",
       "    <tr>\n",
       "      <th>...</th>\n",
       "      <td>...</td>\n",
       "      <td>...</td>\n",
       "      <td>...</td>\n",
       "      <td>...</td>\n",
       "      <td>...</td>\n",
       "      <td>...</td>\n",
       "      <td>...</td>\n",
       "      <td>...</td>\n",
       "      <td>...</td>\n",
       "      <td>...</td>\n",
       "      <td>...</td>\n",
       "      <td>...</td>\n",
       "    </tr>\n",
       "    <tr>\n",
       "      <th>2022-01-31</th>\n",
       "      <td>-0.026176</td>\n",
       "      <td>0.078922</td>\n",
       "      <td>-0.000205</td>\n",
       "      <td>-0.036350</td>\n",
       "      <td>-0.026549</td>\n",
       "      <td>-0.021130</td>\n",
       "      <td>-0.082314</td>\n",
       "      <td>-0.086028</td>\n",
       "      <td>-0.020761</td>\n",
       "      <td>-0.000815</td>\n",
       "      <td>-0.052741</td>\n",
       "      <td>-0.020588</td>\n",
       "    </tr>\n",
       "    <tr>\n",
       "      <th>2022-02-28</th>\n",
       "      <td>-0.011197</td>\n",
       "      <td>0.064674</td>\n",
       "      <td>-0.043202</td>\n",
       "      <td>-0.034292</td>\n",
       "      <td>-0.008591</td>\n",
       "      <td>-0.003041</td>\n",
       "      <td>-0.045881</td>\n",
       "      <td>-0.073602</td>\n",
       "      <td>-0.006746</td>\n",
       "      <td>-0.000363</td>\n",
       "      <td>-0.029517</td>\n",
       "      <td>0.008557</td>\n",
       "    </tr>\n",
       "    <tr>\n",
       "      <th>2022-03-31</th>\n",
       "      <td>-0.042240</td>\n",
       "      <td>0.091747</td>\n",
       "      <td>-0.033811</td>\n",
       "      <td>0.005190</td>\n",
       "      <td>-0.012871</td>\n",
       "      <td>-0.040609</td>\n",
       "      <td>0.068646</td>\n",
       "      <td>-0.007721</td>\n",
       "      <td>-0.002587</td>\n",
       "      <td>-0.000363</td>\n",
       "      <td>0.037590</td>\n",
       "      <td>-0.018755</td>\n",
       "    </tr>\n",
       "    <tr>\n",
       "      <th>2022-04-30</th>\n",
       "      <td>-0.069696</td>\n",
       "      <td>0.056408</td>\n",
       "      <td>-0.061351</td>\n",
       "      <td>-0.067391</td>\n",
       "      <td>-0.041803</td>\n",
       "      <td>-0.042283</td>\n",
       "      <td>-0.041305</td>\n",
       "      <td>-0.125679</td>\n",
       "      <td>-0.033398</td>\n",
       "      <td>-0.000290</td>\n",
       "      <td>-0.087769</td>\n",
       "      <td>-0.021830</td>\n",
       "    </tr>\n",
       "    <tr>\n",
       "      <th>2022-05-31</th>\n",
       "      <td>0.011250</td>\n",
       "      <td>0.053396</td>\n",
       "      <td>-0.007787</td>\n",
       "      <td>0.026078</td>\n",
       "      <td>0.025120</td>\n",
       "      <td>0.016799</td>\n",
       "      <td>-0.032675</td>\n",
       "      <td>0.013310</td>\n",
       "      <td>-0.002348</td>\n",
       "      <td>0.000935</td>\n",
       "      <td>0.007913</td>\n",
       "      <td>-0.002847</td>\n",
       "    </tr>\n",
       "  </tbody>\n",
       "</table>\n",
       "<p>158 rows × 12 columns</p>\n",
       "</div>"
      ],
      "text/plain": [
       "                 BWX       DBC       EEM       EFA       HYG       IEF  \\\n",
       "Date                                                                     \n",
       "2009-04-30  0.008993 -0.001000  0.155582  0.115190  0.138461 -0.027452   \n",
       "2009-05-31  0.053672  0.162663  0.159400  0.131918  0.028554 -0.020773   \n",
       "2009-06-30  0.005149 -0.026259 -0.022495 -0.014049  0.033517 -0.005571   \n",
       "2009-07-31  0.031284  0.018568  0.110146  0.100415  0.069191  0.008317   \n",
       "2009-08-31  0.007628 -0.040365 -0.013136  0.045031 -0.016969  0.007633   \n",
       "...              ...       ...       ...       ...       ...       ...   \n",
       "2022-01-31 -0.026176  0.078922 -0.000205 -0.036350 -0.026549 -0.021130   \n",
       "2022-02-28 -0.011197  0.064674 -0.043202 -0.034292 -0.008591 -0.003041   \n",
       "2022-03-31 -0.042240  0.091747 -0.033811  0.005190 -0.012871 -0.040609   \n",
       "2022-04-30 -0.069696  0.056408 -0.061351 -0.067391 -0.041803 -0.042283   \n",
       "2022-05-31  0.011250  0.053396 -0.007787  0.026078  0.025120  0.016799   \n",
       "\n",
       "                 IYR       PSP       QAI       SHV       SPY       TIP  \n",
       "Date                                                                    \n",
       "2009-04-30  0.296151  0.230202  0.022882  0.000553  0.099347 -0.017951  \n",
       "2009-05-31  0.022727  0.053893  0.027865 -0.000471  0.058453  0.019966  \n",
       "2009-06-30 -0.024863  0.045449 -0.003436  0.000599 -0.000655  0.001981  \n",
       "2009-07-31  0.105799  0.143247  0.015326 -0.000027  0.074606  0.000879  \n",
       "2009-08-31  0.131938  0.033413 -0.004151  0.000435  0.036940  0.008414  \n",
       "...              ...       ...       ...       ...       ...       ...  \n",
       "2022-01-31 -0.082314 -0.086028 -0.020761 -0.000815 -0.052741 -0.020588  \n",
       "2022-02-28 -0.045881 -0.073602 -0.006746 -0.000363 -0.029517  0.008557  \n",
       "2022-03-31  0.068646 -0.007721 -0.002587 -0.000363  0.037590 -0.018755  \n",
       "2022-04-30 -0.041305 -0.125679 -0.033398 -0.000290 -0.087769 -0.021830  \n",
       "2022-05-31 -0.032675  0.013310 -0.002348  0.000935  0.007913 -0.002847  \n",
       "\n",
       "[158 rows x 12 columns]"
      ]
     },
     "execution_count": 2,
     "metadata": {},
     "output_type": "execute_result"
    }
   ],
   "source": [
    "totals = pd.read_excel(\"multi_asset_etf_data.xlsx\", sheet_name = \"total returns\")\n",
    "totals.set_index(\"Date\", inplace = True)\n",
    "totals"
   ]
  },
  {
   "cell_type": "code",
   "execution_count": 3,
   "metadata": {},
   "outputs": [
    {
     "data": {
      "text/html": [
       "<div>\n",
       "<style scoped>\n",
       "    .dataframe tbody tr th:only-of-type {\n",
       "        vertical-align: middle;\n",
       "    }\n",
       "\n",
       "    .dataframe tbody tr th {\n",
       "        vertical-align: top;\n",
       "    }\n",
       "\n",
       "    .dataframe thead th {\n",
       "        text-align: right;\n",
       "    }\n",
       "</style>\n",
       "<table border=\"1\" class=\"dataframe\">\n",
       "  <thead>\n",
       "    <tr style=\"text-align: right;\">\n",
       "      <th></th>\n",
       "      <th>BWX</th>\n",
       "      <th>DBC</th>\n",
       "      <th>EEM</th>\n",
       "      <th>EFA</th>\n",
       "      <th>HYG</th>\n",
       "      <th>IEF</th>\n",
       "      <th>IYR</th>\n",
       "      <th>PSP</th>\n",
       "      <th>QAI</th>\n",
       "      <th>SPY</th>\n",
       "      <th>TIP</th>\n",
       "    </tr>\n",
       "    <tr>\n",
       "      <th>Date</th>\n",
       "      <th></th>\n",
       "      <th></th>\n",
       "      <th></th>\n",
       "      <th></th>\n",
       "      <th></th>\n",
       "      <th></th>\n",
       "      <th></th>\n",
       "      <th></th>\n",
       "      <th></th>\n",
       "      <th></th>\n",
       "      <th></th>\n",
       "    </tr>\n",
       "  </thead>\n",
       "  <tbody>\n",
       "    <tr>\n",
       "      <th>2009-04-30</th>\n",
       "      <td>0.008440</td>\n",
       "      <td>-0.001553</td>\n",
       "      <td>0.155029</td>\n",
       "      <td>0.114637</td>\n",
       "      <td>0.137908</td>\n",
       "      <td>-0.028005</td>\n",
       "      <td>0.295598</td>\n",
       "      <td>0.229649</td>\n",
       "      <td>0.022329</td>\n",
       "      <td>0.098794</td>\n",
       "      <td>-0.018504</td>\n",
       "    </tr>\n",
       "    <tr>\n",
       "      <th>2009-05-31</th>\n",
       "      <td>0.054143</td>\n",
       "      <td>0.163134</td>\n",
       "      <td>0.159871</td>\n",
       "      <td>0.132389</td>\n",
       "      <td>0.029025</td>\n",
       "      <td>-0.020302</td>\n",
       "      <td>0.023198</td>\n",
       "      <td>0.054364</td>\n",
       "      <td>0.028336</td>\n",
       "      <td>0.058924</td>\n",
       "      <td>0.020438</td>\n",
       "    </tr>\n",
       "    <tr>\n",
       "      <th>2009-06-30</th>\n",
       "      <td>0.004550</td>\n",
       "      <td>-0.026858</td>\n",
       "      <td>-0.023094</td>\n",
       "      <td>-0.014648</td>\n",
       "      <td>0.032918</td>\n",
       "      <td>-0.006170</td>\n",
       "      <td>-0.025462</td>\n",
       "      <td>0.044850</td>\n",
       "      <td>-0.004035</td>\n",
       "      <td>-0.001254</td>\n",
       "      <td>0.001382</td>\n",
       "    </tr>\n",
       "    <tr>\n",
       "      <th>2009-07-31</th>\n",
       "      <td>0.031311</td>\n",
       "      <td>0.018595</td>\n",
       "      <td>0.110173</td>\n",
       "      <td>0.100442</td>\n",
       "      <td>0.069218</td>\n",
       "      <td>0.008345</td>\n",
       "      <td>0.105826</td>\n",
       "      <td>0.143274</td>\n",
       "      <td>0.015353</td>\n",
       "      <td>0.074633</td>\n",
       "      <td>0.000906</td>\n",
       "    </tr>\n",
       "    <tr>\n",
       "      <th>2009-08-31</th>\n",
       "      <td>0.007193</td>\n",
       "      <td>-0.040800</td>\n",
       "      <td>-0.013571</td>\n",
       "      <td>0.044596</td>\n",
       "      <td>-0.017404</td>\n",
       "      <td>0.007198</td>\n",
       "      <td>0.131503</td>\n",
       "      <td>0.032977</td>\n",
       "      <td>-0.004586</td>\n",
       "      <td>0.036505</td>\n",
       "      <td>0.007979</td>\n",
       "    </tr>\n",
       "    <tr>\n",
       "      <th>...</th>\n",
       "      <td>...</td>\n",
       "      <td>...</td>\n",
       "      <td>...</td>\n",
       "      <td>...</td>\n",
       "      <td>...</td>\n",
       "      <td>...</td>\n",
       "      <td>...</td>\n",
       "      <td>...</td>\n",
       "      <td>...</td>\n",
       "      <td>...</td>\n",
       "      <td>...</td>\n",
       "    </tr>\n",
       "    <tr>\n",
       "      <th>2022-01-31</th>\n",
       "      <td>-0.025361</td>\n",
       "      <td>0.079737</td>\n",
       "      <td>0.000610</td>\n",
       "      <td>-0.035535</td>\n",
       "      <td>-0.025734</td>\n",
       "      <td>-0.020315</td>\n",
       "      <td>-0.081499</td>\n",
       "      <td>-0.085213</td>\n",
       "      <td>-0.019946</td>\n",
       "      <td>-0.051926</td>\n",
       "      <td>-0.019773</td>\n",
       "    </tr>\n",
       "    <tr>\n",
       "      <th>2022-02-28</th>\n",
       "      <td>-0.010834</td>\n",
       "      <td>0.065037</td>\n",
       "      <td>-0.042840</td>\n",
       "      <td>-0.033929</td>\n",
       "      <td>-0.008228</td>\n",
       "      <td>-0.002679</td>\n",
       "      <td>-0.045518</td>\n",
       "      <td>-0.073240</td>\n",
       "      <td>-0.006383</td>\n",
       "      <td>-0.029154</td>\n",
       "      <td>0.008919</td>\n",
       "    </tr>\n",
       "    <tr>\n",
       "      <th>2022-03-31</th>\n",
       "      <td>-0.041877</td>\n",
       "      <td>0.092110</td>\n",
       "      <td>-0.033449</td>\n",
       "      <td>0.005552</td>\n",
       "      <td>-0.012509</td>\n",
       "      <td>-0.040247</td>\n",
       "      <td>0.069009</td>\n",
       "      <td>-0.007359</td>\n",
       "      <td>-0.002225</td>\n",
       "      <td>0.037953</td>\n",
       "      <td>-0.018393</td>\n",
       "    </tr>\n",
       "    <tr>\n",
       "      <th>2022-04-30</th>\n",
       "      <td>-0.069406</td>\n",
       "      <td>0.056699</td>\n",
       "      <td>-0.061061</td>\n",
       "      <td>-0.067101</td>\n",
       "      <td>-0.041513</td>\n",
       "      <td>-0.041992</td>\n",
       "      <td>-0.041014</td>\n",
       "      <td>-0.125388</td>\n",
       "      <td>-0.033108</td>\n",
       "      <td>-0.087479</td>\n",
       "      <td>-0.021540</td>\n",
       "    </tr>\n",
       "    <tr>\n",
       "      <th>2022-05-31</th>\n",
       "      <td>0.010315</td>\n",
       "      <td>0.052461</td>\n",
       "      <td>-0.008722</td>\n",
       "      <td>0.025143</td>\n",
       "      <td>0.024185</td>\n",
       "      <td>0.015864</td>\n",
       "      <td>-0.033610</td>\n",
       "      <td>0.012375</td>\n",
       "      <td>-0.003283</td>\n",
       "      <td>0.006978</td>\n",
       "      <td>-0.003782</td>\n",
       "    </tr>\n",
       "  </tbody>\n",
       "</table>\n",
       "<p>158 rows × 11 columns</p>\n",
       "</div>"
      ],
      "text/plain": [
       "                 BWX       DBC       EEM       EFA       HYG       IEF  \\\n",
       "Date                                                                     \n",
       "2009-04-30  0.008440 -0.001553  0.155029  0.114637  0.137908 -0.028005   \n",
       "2009-05-31  0.054143  0.163134  0.159871  0.132389  0.029025 -0.020302   \n",
       "2009-06-30  0.004550 -0.026858 -0.023094 -0.014648  0.032918 -0.006170   \n",
       "2009-07-31  0.031311  0.018595  0.110173  0.100442  0.069218  0.008345   \n",
       "2009-08-31  0.007193 -0.040800 -0.013571  0.044596 -0.017404  0.007198   \n",
       "...              ...       ...       ...       ...       ...       ...   \n",
       "2022-01-31 -0.025361  0.079737  0.000610 -0.035535 -0.025734 -0.020315   \n",
       "2022-02-28 -0.010834  0.065037 -0.042840 -0.033929 -0.008228 -0.002679   \n",
       "2022-03-31 -0.041877  0.092110 -0.033449  0.005552 -0.012509 -0.040247   \n",
       "2022-04-30 -0.069406  0.056699 -0.061061 -0.067101 -0.041513 -0.041992   \n",
       "2022-05-31  0.010315  0.052461 -0.008722  0.025143  0.024185  0.015864   \n",
       "\n",
       "                 IYR       PSP       QAI       SPY       TIP  \n",
       "Date                                                          \n",
       "2009-04-30  0.295598  0.229649  0.022329  0.098794 -0.018504  \n",
       "2009-05-31  0.023198  0.054364  0.028336  0.058924  0.020438  \n",
       "2009-06-30 -0.025462  0.044850 -0.004035 -0.001254  0.001382  \n",
       "2009-07-31  0.105826  0.143274  0.015353  0.074633  0.000906  \n",
       "2009-08-31  0.131503  0.032977 -0.004586  0.036505  0.007979  \n",
       "...              ...       ...       ...       ...       ...  \n",
       "2022-01-31 -0.081499 -0.085213 -0.019946 -0.051926 -0.019773  \n",
       "2022-02-28 -0.045518 -0.073240 -0.006383 -0.029154  0.008919  \n",
       "2022-03-31  0.069009 -0.007359 -0.002225  0.037953 -0.018393  \n",
       "2022-04-30 -0.041014 -0.125388 -0.033108 -0.087479 -0.021540  \n",
       "2022-05-31 -0.033610  0.012375 -0.003283  0.006978 -0.003782  \n",
       "\n",
       "[158 rows x 11 columns]"
      ]
     },
     "execution_count": 3,
     "metadata": {},
     "output_type": "execute_result"
    }
   ],
   "source": [
    "excess = pd.read_excel(\"multi_asset_etf_data.xlsx\", sheet_name = \"excess returns\")\n",
    "excess.set_index(\"Date\", inplace = True)\n",
    "excess"
   ]
  },
  {
   "cell_type": "markdown",
   "metadata": {},
   "source": [
    "### 1  Summary Statistics"
   ]
  },
  {
   "cell_type": "markdown",
   "metadata": {},
   "source": [
    "##### a) Calculate and display the mean and volatility of each asset’s excess return. (Recall we use volatility to refer to standard deviation.)"
   ]
  },
  {
   "cell_type": "code",
   "execution_count": 64,
   "metadata": {},
   "outputs": [],
   "source": [
    "import numpy as np\n",
    "def get_mean_std(asset):\n",
    "    print(asset, \"mean:\", excess[asset].mean()*12)\n",
    "    print(asset, \"volatility:\", excess[asset].std()*np.sqrt(12))"
   ]
  },
  {
   "cell_type": "code",
   "execution_count": 65,
   "metadata": {},
   "outputs": [
    {
     "name": "stdout",
     "output_type": "stream",
     "text": [
      "BWX mean: 0.00881369700249321\n",
      "BWX volatility: 0.07677082371082707\n",
      "DBC mean: 0.047670588386368506\n",
      "DBC volatility: 0.18164422545590764\n",
      "EEM mean: 0.08248459885703832\n",
      "EEM volatility: 0.19516683628912818\n",
      "EFA mean: 0.09764128859560568\n",
      "EFA volatility: 0.16604103186893066\n",
      "HYG mean: 0.08991494707678852\n",
      "HYG volatility: 0.10726964694987993\n",
      "IEF mean: 0.03396829511261053\n",
      "IEF volatility: 0.06975310230138623\n",
      "IYR mean: 0.17004791942467912\n",
      "IYR volatility: 0.19380899957444364\n",
      "PSP mean: 0.15304744176202706\n",
      "PSP volatility: 0.22252715744020227\n",
      "QAI mean: 0.031389878828651296\n",
      "QAI volatility: 0.062320215376775186\n",
      "SPY mean: 0.1729001865498525\n",
      "SPY volatility: 0.16296865693171916\n",
      "TIP mean: 0.046445994404423104\n",
      "TIP volatility: 0.06940667489048383\n"
     ]
    }
   ],
   "source": [
    "get_mean_std(\"BWX\")\n",
    "get_mean_std(\"DBC\")\n",
    "get_mean_std(\"EEM\")\n",
    "get_mean_std(\"EFA\")\n",
    "get_mean_std(\"HYG\")\n",
    "get_mean_std(\"IEF\")\n",
    "get_mean_std(\"IYR\")\n",
    "get_mean_std(\"PSP\")\n",
    "get_mean_std(\"QAI\")\n",
    "get_mean_std(\"SPY\")\n",
    "get_mean_std(\"TIP\")"
   ]
  },
  {
   "cell_type": "markdown",
   "metadata": {},
   "source": [
    "##### b) Which assets have the best and worst Sharpe ratios?"
   ]
  },
  {
   "cell_type": "code",
   "execution_count": 9,
   "metadata": {},
   "outputs": [],
   "source": [
    "def calculate_sharpe(df):\n",
    "    for asset in list(df):\n",
    "        excess.at[\"Sharpe\", asset] = excess[asset].mean() / excess[asset].std()\n",
    "calculate_sharpe(excess)"
   ]
  },
  {
   "cell_type": "code",
   "execution_count": 36,
   "metadata": {},
   "outputs": [
    {
     "data": {
      "text/html": [
       "<div>\n",
       "<style scoped>\n",
       "    .dataframe tbody tr th:only-of-type {\n",
       "        vertical-align: middle;\n",
       "    }\n",
       "\n",
       "    .dataframe tbody tr th {\n",
       "        vertical-align: top;\n",
       "    }\n",
       "\n",
       "    .dataframe thead th {\n",
       "        text-align: right;\n",
       "    }\n",
       "</style>\n",
       "<table border=\"1\" class=\"dataframe\">\n",
       "  <thead>\n",
       "    <tr style=\"text-align: right;\">\n",
       "      <th></th>\n",
       "      <th>BWX</th>\n",
       "      <th>DBC</th>\n",
       "      <th>EEM</th>\n",
       "      <th>EFA</th>\n",
       "      <th>HYG</th>\n",
       "      <th>IEF</th>\n",
       "      <th>IYR</th>\n",
       "      <th>PSP</th>\n",
       "      <th>QAI</th>\n",
       "      <th>SPY</th>\n",
       "      <th>TIP</th>\n",
       "    </tr>\n",
       "    <tr>\n",
       "      <th>Date</th>\n",
       "      <th></th>\n",
       "      <th></th>\n",
       "      <th></th>\n",
       "      <th></th>\n",
       "      <th></th>\n",
       "      <th></th>\n",
       "      <th></th>\n",
       "      <th></th>\n",
       "      <th></th>\n",
       "      <th></th>\n",
       "      <th></th>\n",
       "    </tr>\n",
       "  </thead>\n",
       "  <tbody>\n",
       "    <tr>\n",
       "      <th>2022-02-28 00:00:00</th>\n",
       "      <td>-0.010834</td>\n",
       "      <td>0.065037</td>\n",
       "      <td>-0.042840</td>\n",
       "      <td>-0.033929</td>\n",
       "      <td>-0.008228</td>\n",
       "      <td>-0.002679</td>\n",
       "      <td>-0.045518</td>\n",
       "      <td>-0.073240</td>\n",
       "      <td>-0.006383</td>\n",
       "      <td>-0.029154</td>\n",
       "      <td>0.008919</td>\n",
       "    </tr>\n",
       "    <tr>\n",
       "      <th>2022-03-31 00:00:00</th>\n",
       "      <td>-0.041877</td>\n",
       "      <td>0.092110</td>\n",
       "      <td>-0.033449</td>\n",
       "      <td>0.005552</td>\n",
       "      <td>-0.012509</td>\n",
       "      <td>-0.040247</td>\n",
       "      <td>0.069009</td>\n",
       "      <td>-0.007359</td>\n",
       "      <td>-0.002225</td>\n",
       "      <td>0.037953</td>\n",
       "      <td>-0.018393</td>\n",
       "    </tr>\n",
       "    <tr>\n",
       "      <th>2022-04-30 00:00:00</th>\n",
       "      <td>-0.069406</td>\n",
       "      <td>0.056699</td>\n",
       "      <td>-0.061061</td>\n",
       "      <td>-0.067101</td>\n",
       "      <td>-0.041513</td>\n",
       "      <td>-0.041992</td>\n",
       "      <td>-0.041014</td>\n",
       "      <td>-0.125388</td>\n",
       "      <td>-0.033108</td>\n",
       "      <td>-0.087479</td>\n",
       "      <td>-0.021540</td>\n",
       "    </tr>\n",
       "    <tr>\n",
       "      <th>2022-05-31 00:00:00</th>\n",
       "      <td>0.010315</td>\n",
       "      <td>0.052461</td>\n",
       "      <td>-0.008722</td>\n",
       "      <td>0.025143</td>\n",
       "      <td>0.024185</td>\n",
       "      <td>0.015864</td>\n",
       "      <td>-0.033610</td>\n",
       "      <td>0.012375</td>\n",
       "      <td>-0.003283</td>\n",
       "      <td>0.006978</td>\n",
       "      <td>-0.003782</td>\n",
       "    </tr>\n",
       "    <tr>\n",
       "      <th>Sharpe</th>\n",
       "      <td>0.032645</td>\n",
       "      <td>0.075672</td>\n",
       "      <td>0.121927</td>\n",
       "      <td>0.169706</td>\n",
       "      <td>0.242000</td>\n",
       "      <td>0.140570</td>\n",
       "      <td>0.253282</td>\n",
       "      <td>0.198518</td>\n",
       "      <td>0.145350</td>\n",
       "      <td>0.306269</td>\n",
       "      <td>0.194055</td>\n",
       "    </tr>\n",
       "  </tbody>\n",
       "</table>\n",
       "</div>"
      ],
      "text/plain": [
       "                          BWX       DBC       EEM       EFA       HYG  \\\n",
       "Date                                                                    \n",
       "2022-02-28 00:00:00 -0.010834  0.065037 -0.042840 -0.033929 -0.008228   \n",
       "2022-03-31 00:00:00 -0.041877  0.092110 -0.033449  0.005552 -0.012509   \n",
       "2022-04-30 00:00:00 -0.069406  0.056699 -0.061061 -0.067101 -0.041513   \n",
       "2022-05-31 00:00:00  0.010315  0.052461 -0.008722  0.025143  0.024185   \n",
       "Sharpe               0.032645  0.075672  0.121927  0.169706  0.242000   \n",
       "\n",
       "                          IEF       IYR       PSP       QAI       SPY  \\\n",
       "Date                                                                    \n",
       "2022-02-28 00:00:00 -0.002679 -0.045518 -0.073240 -0.006383 -0.029154   \n",
       "2022-03-31 00:00:00 -0.040247  0.069009 -0.007359 -0.002225  0.037953   \n",
       "2022-04-30 00:00:00 -0.041992 -0.041014 -0.125388 -0.033108 -0.087479   \n",
       "2022-05-31 00:00:00  0.015864 -0.033610  0.012375 -0.003283  0.006978   \n",
       "Sharpe               0.140570  0.253282  0.198518  0.145350  0.306269   \n",
       "\n",
       "                          TIP  \n",
       "Date                           \n",
       "2022-02-28 00:00:00  0.008919  \n",
       "2022-03-31 00:00:00 -0.018393  \n",
       "2022-04-30 00:00:00 -0.021540  \n",
       "2022-05-31 00:00:00 -0.003782  \n",
       "Sharpe               0.194055  "
      ]
     },
     "execution_count": 36,
     "metadata": {},
     "output_type": "execute_result"
    }
   ],
   "source": [
    "excess.tail()"
   ]
  },
  {
   "cell_type": "code",
   "execution_count": 35,
   "metadata": {},
   "outputs": [
    {
     "name": "stdout",
     "output_type": "stream",
     "text": [
      "SPY 0.30626857604814245\n",
      "BWX 0.03264545363875796\n"
     ]
    }
   ],
   "source": [
    "best_sharpe_val = excess.loc[\"Sharpe\"].iloc[1]\n",
    "worst_sharpe_val = excess.loc[\"Sharpe\"].iloc[1]\n",
    "best_sharpe = excess.iloc[0,1]\n",
    "worst_sharpe = excess.iloc[0,1]\n",
    "for asset in excess:\n",
    "    if excess.loc[\"Sharpe\", asset] > best_sharpe_val:\n",
    "        best_sharpe = asset\n",
    "        best_sharpe_val = excess.loc[\"Sharpe\", asset]\n",
    "    elif excess.loc[\"Sharpe\", asset] < worst_sharpe_val:\n",
    "        worst_sharpe = asset\n",
    "        worst_sharpe_val = excess.loc[\"Sharpe\", asset]\n",
    "print(best_sharpe, best_sharpe_val)\n",
    "print(worst_sharpe, worst_sharpe_val)"
   ]
  },
  {
   "cell_type": "markdown",
   "metadata": {},
   "source": [
    "SPY has the best Sharpe value of 0.30626857604814245, while BWX has the worst Sharpe value of 0.03264545363875796."
   ]
  },
  {
   "cell_type": "markdown",
   "metadata": {},
   "source": [
    "### 2  Descriptive Analysis"
   ]
  },
  {
   "cell_type": "markdown",
   "metadata": {},
   "source": [
    "##### a) Calculate the correlation matrix of the returns. Which pair has the highest correlation? And the lowest?"
   ]
  },
  {
   "cell_type": "code",
   "execution_count": 43,
   "metadata": {},
   "outputs": [
    {
     "data": {
      "text/html": [
       "<div>\n",
       "<style scoped>\n",
       "    .dataframe tbody tr th:only-of-type {\n",
       "        vertical-align: middle;\n",
       "    }\n",
       "\n",
       "    .dataframe tbody tr th {\n",
       "        vertical-align: top;\n",
       "    }\n",
       "\n",
       "    .dataframe thead th {\n",
       "        text-align: right;\n",
       "    }\n",
       "</style>\n",
       "<table border=\"1\" class=\"dataframe\">\n",
       "  <thead>\n",
       "    <tr style=\"text-align: right;\">\n",
       "      <th></th>\n",
       "      <th>BWX</th>\n",
       "      <th>DBC</th>\n",
       "      <th>EEM</th>\n",
       "      <th>EFA</th>\n",
       "      <th>HYG</th>\n",
       "      <th>IEF</th>\n",
       "      <th>IYR</th>\n",
       "      <th>PSP</th>\n",
       "      <th>QAI</th>\n",
       "      <th>SHV</th>\n",
       "      <th>SPY</th>\n",
       "      <th>TIP</th>\n",
       "    </tr>\n",
       "  </thead>\n",
       "  <tbody>\n",
       "    <tr>\n",
       "      <th>BWX</th>\n",
       "      <td>1.000000</td>\n",
       "      <td>0.325508</td>\n",
       "      <td>0.605680</td>\n",
       "      <td>0.555326</td>\n",
       "      <td>0.506194</td>\n",
       "      <td>0.323691</td>\n",
       "      <td>0.384561</td>\n",
       "      <td>0.479873</td>\n",
       "      <td>0.627329</td>\n",
       "      <td>0.102644</td>\n",
       "      <td>0.396518</td>\n",
       "      <td>0.555304</td>\n",
       "    </tr>\n",
       "    <tr>\n",
       "      <th>DBC</th>\n",
       "      <td>0.325508</td>\n",
       "      <td>1.000000</td>\n",
       "      <td>0.558936</td>\n",
       "      <td>0.578556</td>\n",
       "      <td>0.460296</td>\n",
       "      <td>-0.414040</td>\n",
       "      <td>0.282181</td>\n",
       "      <td>0.485035</td>\n",
       "      <td>0.528370</td>\n",
       "      <td>-0.186266</td>\n",
       "      <td>0.494877</td>\n",
       "      <td>0.064877</td>\n",
       "    </tr>\n",
       "    <tr>\n",
       "      <th>EEM</th>\n",
       "      <td>0.605680</td>\n",
       "      <td>0.558936</td>\n",
       "      <td>1.000000</td>\n",
       "      <td>0.851418</td>\n",
       "      <td>0.745497</td>\n",
       "      <td>-0.253119</td>\n",
       "      <td>0.602920</td>\n",
       "      <td>0.796636</td>\n",
       "      <td>0.800204</td>\n",
       "      <td>-0.108642</td>\n",
       "      <td>0.745782</td>\n",
       "      <td>0.227128</td>\n",
       "    </tr>\n",
       "    <tr>\n",
       "      <th>EFA</th>\n",
       "      <td>0.555326</td>\n",
       "      <td>0.578556</td>\n",
       "      <td>0.851418</td>\n",
       "      <td>1.000000</td>\n",
       "      <td>0.754129</td>\n",
       "      <td>-0.311079</td>\n",
       "      <td>0.669529</td>\n",
       "      <td>0.904902</td>\n",
       "      <td>0.830989</td>\n",
       "      <td>-0.164646</td>\n",
       "      <td>0.870442</td>\n",
       "      <td>0.150719</td>\n",
       "    </tr>\n",
       "    <tr>\n",
       "      <th>HYG</th>\n",
       "      <td>0.506194</td>\n",
       "      <td>0.460296</td>\n",
       "      <td>0.745497</td>\n",
       "      <td>0.754129</td>\n",
       "      <td>1.000000</td>\n",
       "      <td>-0.154525</td>\n",
       "      <td>0.736794</td>\n",
       "      <td>0.811427</td>\n",
       "      <td>0.747439</td>\n",
       "      <td>-0.127948</td>\n",
       "      <td>0.738016</td>\n",
       "      <td>0.228486</td>\n",
       "    </tr>\n",
       "    <tr>\n",
       "      <th>IEF</th>\n",
       "      <td>0.323691</td>\n",
       "      <td>-0.414040</td>\n",
       "      <td>-0.253119</td>\n",
       "      <td>-0.311079</td>\n",
       "      <td>-0.154525</td>\n",
       "      <td>1.000000</td>\n",
       "      <td>-0.060927</td>\n",
       "      <td>-0.304327</td>\n",
       "      <td>-0.076177</td>\n",
       "      <td>0.296575</td>\n",
       "      <td>-0.328993</td>\n",
       "      <td>0.672216</td>\n",
       "    </tr>\n",
       "    <tr>\n",
       "      <th>IYR</th>\n",
       "      <td>0.384561</td>\n",
       "      <td>0.282181</td>\n",
       "      <td>0.602920</td>\n",
       "      <td>0.669529</td>\n",
       "      <td>0.736794</td>\n",
       "      <td>-0.060927</td>\n",
       "      <td>1.000000</td>\n",
       "      <td>0.735932</td>\n",
       "      <td>0.609704</td>\n",
       "      <td>-0.136625</td>\n",
       "      <td>0.729380</td>\n",
       "      <td>0.284090</td>\n",
       "    </tr>\n",
       "    <tr>\n",
       "      <th>PSP</th>\n",
       "      <td>0.479873</td>\n",
       "      <td>0.485035</td>\n",
       "      <td>0.796636</td>\n",
       "      <td>0.904902</td>\n",
       "      <td>0.811427</td>\n",
       "      <td>-0.304327</td>\n",
       "      <td>0.735932</td>\n",
       "      <td>1.000000</td>\n",
       "      <td>0.816838</td>\n",
       "      <td>-0.197451</td>\n",
       "      <td>0.898231</td>\n",
       "      <td>0.166648</td>\n",
       "    </tr>\n",
       "    <tr>\n",
       "      <th>QAI</th>\n",
       "      <td>0.627329</td>\n",
       "      <td>0.528370</td>\n",
       "      <td>0.800204</td>\n",
       "      <td>0.830989</td>\n",
       "      <td>0.747439</td>\n",
       "      <td>-0.076177</td>\n",
       "      <td>0.609704</td>\n",
       "      <td>0.816838</td>\n",
       "      <td>1.000000</td>\n",
       "      <td>-0.111892</td>\n",
       "      <td>0.824195</td>\n",
       "      <td>0.362915</td>\n",
       "    </tr>\n",
       "    <tr>\n",
       "      <th>SHV</th>\n",
       "      <td>0.102644</td>\n",
       "      <td>-0.186266</td>\n",
       "      <td>-0.108642</td>\n",
       "      <td>-0.164646</td>\n",
       "      <td>-0.127948</td>\n",
       "      <td>0.296575</td>\n",
       "      <td>-0.136625</td>\n",
       "      <td>-0.197451</td>\n",
       "      <td>-0.111892</td>\n",
       "      <td>1.000000</td>\n",
       "      <td>-0.188728</td>\n",
       "      <td>0.066021</td>\n",
       "    </tr>\n",
       "    <tr>\n",
       "      <th>SPY</th>\n",
       "      <td>0.396518</td>\n",
       "      <td>0.494877</td>\n",
       "      <td>0.745782</td>\n",
       "      <td>0.870442</td>\n",
       "      <td>0.738016</td>\n",
       "      <td>-0.328993</td>\n",
       "      <td>0.729380</td>\n",
       "      <td>0.898231</td>\n",
       "      <td>0.824195</td>\n",
       "      <td>-0.188728</td>\n",
       "      <td>1.000000</td>\n",
       "      <td>0.133463</td>\n",
       "    </tr>\n",
       "    <tr>\n",
       "      <th>TIP</th>\n",
       "      <td>0.555304</td>\n",
       "      <td>0.064877</td>\n",
       "      <td>0.227128</td>\n",
       "      <td>0.150719</td>\n",
       "      <td>0.228486</td>\n",
       "      <td>0.672216</td>\n",
       "      <td>0.284090</td>\n",
       "      <td>0.166648</td>\n",
       "      <td>0.362915</td>\n",
       "      <td>0.066021</td>\n",
       "      <td>0.133463</td>\n",
       "      <td>1.000000</td>\n",
       "    </tr>\n",
       "  </tbody>\n",
       "</table>\n",
       "</div>"
      ],
      "text/plain": [
       "          BWX       DBC       EEM       EFA       HYG       IEF       IYR  \\\n",
       "BWX  1.000000  0.325508  0.605680  0.555326  0.506194  0.323691  0.384561   \n",
       "DBC  0.325508  1.000000  0.558936  0.578556  0.460296 -0.414040  0.282181   \n",
       "EEM  0.605680  0.558936  1.000000  0.851418  0.745497 -0.253119  0.602920   \n",
       "EFA  0.555326  0.578556  0.851418  1.000000  0.754129 -0.311079  0.669529   \n",
       "HYG  0.506194  0.460296  0.745497  0.754129  1.000000 -0.154525  0.736794   \n",
       "IEF  0.323691 -0.414040 -0.253119 -0.311079 -0.154525  1.000000 -0.060927   \n",
       "IYR  0.384561  0.282181  0.602920  0.669529  0.736794 -0.060927  1.000000   \n",
       "PSP  0.479873  0.485035  0.796636  0.904902  0.811427 -0.304327  0.735932   \n",
       "QAI  0.627329  0.528370  0.800204  0.830989  0.747439 -0.076177  0.609704   \n",
       "SHV  0.102644 -0.186266 -0.108642 -0.164646 -0.127948  0.296575 -0.136625   \n",
       "SPY  0.396518  0.494877  0.745782  0.870442  0.738016 -0.328993  0.729380   \n",
       "TIP  0.555304  0.064877  0.227128  0.150719  0.228486  0.672216  0.284090   \n",
       "\n",
       "          PSP       QAI       SHV       SPY       TIP  \n",
       "BWX  0.479873  0.627329  0.102644  0.396518  0.555304  \n",
       "DBC  0.485035  0.528370 -0.186266  0.494877  0.064877  \n",
       "EEM  0.796636  0.800204 -0.108642  0.745782  0.227128  \n",
       "EFA  0.904902  0.830989 -0.164646  0.870442  0.150719  \n",
       "HYG  0.811427  0.747439 -0.127948  0.738016  0.228486  \n",
       "IEF -0.304327 -0.076177  0.296575 -0.328993  0.672216  \n",
       "IYR  0.735932  0.609704 -0.136625  0.729380  0.284090  \n",
       "PSP  1.000000  0.816838 -0.197451  0.898231  0.166648  \n",
       "QAI  0.816838  1.000000 -0.111892  0.824195  0.362915  \n",
       "SHV -0.197451 -0.111892  1.000000 -0.188728  0.066021  \n",
       "SPY  0.898231  0.824195 -0.188728  1.000000  0.133463  \n",
       "TIP  0.166648  0.362915  0.066021  0.133463  1.000000  "
      ]
     },
     "execution_count": 43,
     "metadata": {},
     "output_type": "execute_result"
    }
   ],
   "source": [
    "corr = totals.corr()\n",
    "corr"
   ]
  },
  {
   "cell_type": "code",
   "execution_count": 44,
   "metadata": {},
   "outputs": [
    {
     "data": {
      "text/plain": [
       "<AxesSubplot:>"
      ]
     },
     "execution_count": 44,
     "metadata": {},
     "output_type": "execute_result"
    },
    {
     "data": {
      "image/png": "[encoded data removed]",
      "text/plain": [
       "<Figure size 432x288 with 2 Axes>"
      ]
     },
     "metadata": {
      "needs_background": "light"
     },
     "output_type": "display_data"
    }
   ],
   "source": [
    "import seaborn\n",
    "seaborn.heatmap(corr)"
   ]
  },
  {
   "cell_type": "code",
   "execution_count": 55,
   "metadata": {},
   "outputs": [
    {
     "data": {
      "text/plain": [
       "0.9049017403137383"
      ]
     },
     "execution_count": 55,
     "metadata": {},
     "output_type": "execute_result"
    }
   ],
   "source": [
    "max(corr.copy().replace(1,0).max())"
   ]
  },
  {
   "cell_type": "code",
   "execution_count": 60,
   "metadata": {},
   "outputs": [
    {
     "data": {
      "text/plain": [
       "'TIP'"
      ]
     },
     "execution_count": 60,
     "metadata": {},
     "output_type": "execute_result"
    }
   ],
   "source": [
    "max(corr.copy().replace(1,0))"
   ]
  },
  {
   "cell_type": "code",
   "execution_count": 56,
   "metadata": {},
   "outputs": [
    {
     "data": {
      "text/plain": [
       "-0.41403957248149575"
      ]
     },
     "execution_count": 56,
     "metadata": {},
     "output_type": "execute_result"
    }
   ],
   "source": [
    "min(corr.copy().replace(1,0).min())"
   ]
  },
  {
   "cell_type": "code",
   "execution_count": 58,
   "metadata": {
    "scrolled": true
   },
   "outputs": [
    {
     "data": {
      "text/plain": [
       "Series([], Name: TIP, dtype: float64)"
      ]
     },
     "execution_count": 58,
     "metadata": {},
     "output_type": "execute_result"
    }
   ],
   "source": [
    "corr.loc[max(corr.copy().replace(1,0)), corr.loc[max(corr.copy().replace(1,0))] == max(corr.copy().replace(1,0).max())]"
   ]
  },
  {
   "cell_type": "code",
   "execution_count": null,
   "metadata": {},
   "outputs": [],
   "source": [
    "corr[[]].idxmax()"
   ]
  },
  {
   "cell_type": "code",
   "execution_count": 50,
   "metadata": {},
   "outputs": [
    {
     "data": {
      "text/plain": [
       "-0.41403957248149575"
      ]
     },
     "execution_count": 50,
     "metadata": {},
     "output_type": "execute_result"
    }
   ],
   "source": [
    "min(corr.min())"
   ]
  },
  {
   "cell_type": "code",
   "execution_count": 52,
   "metadata": {},
   "outputs": [
    {
     "data": {
      "text/plain": [
       "'DBC'"
      ]
     },
     "execution_count": 52,
     "metadata": {},
     "output_type": "execute_result"
    }
   ],
   "source": [
    "corr.min().idxmin()"
   ]
  },
  {
   "cell_type": "markdown",
   "metadata": {},
   "source": [
    "##### b) How well have TIPS done in our sample? Have they outperformed domestic bonds? Foreign bonds?"
   ]
  },
  {
   "cell_type": "markdown",
   "metadata": {},
   "source": [
    "TIPS is overall very helpful in diversifying our sample, which is indicated by the dark colouring of the TIP column in the heatmap above. Although domestic bonds have less correlation with other assets in our portfolio, TIPS has outperformed both domestic and foreign bonds in terms of the Sharpe ratio. "
   ]
  },
  {
   "cell_type": "markdown",
   "metadata": {},
   "source": [
    "##### c) Based on the data, do TIPS seem to expand the investment opportunity set, implying that Harvard should consider them as a separate asset?"
   ]
  },
  {
   "cell_type": "markdown",
   "metadata": {},
   "source": [
    "Yes, it seems that TIPS does expand Harvard's investment opportunity set, particularly with the increased diversification opportunities that result from considering them as an asset. "
   ]
  },
  {
   "cell_type": "markdown",
   "metadata": {},
   "source": [
    "### 3  The MV Frontier"
   ]
  },
  {
   "cell_type": "markdown",
   "metadata": {},
   "source": [
    "##### a) Compute and display the weights of the tangency portfolios: w^tan."
   ]
  },
  {
   "cell_type": "code",
   "execution_count": null,
   "metadata": {},
   "outputs": [],
   "source": []
  },
  {
   "cell_type": "markdown",
   "metadata": {},
   "source": [
    "##### b) Compute the mean, volatility, and Sharpe ratio for the tangency portfolio corresponding to w^tan."
   ]
  },
  {
   "cell_type": "code",
   "execution_count": null,
   "metadata": {},
   "outputs": [],
   "source": []
  },
  {
   "cell_type": "markdown",
   "metadata": {},
   "source": [
    "### 4  The Allocation"
   ]
  },
  {
   "cell_type": "markdown",
   "metadata": {},
   "source": [
    "##### a) Compute and display the weights of MV portfolios with target returns of µ˜p = .01."
   ]
  },
  {
   "cell_type": "markdown",
   "metadata": {},
   "source": [
    "##### b) What is the mean, volatility, and Sharpe ratio for w^p?"
   ]
  },
  {
   "cell_type": "markdown",
   "metadata": {},
   "source": [
    "##### c) Discuss the allocation. In which assets is the portfolio most long? And short?"
   ]
  },
  {
   "cell_type": "markdown",
   "metadata": {},
   "source": [
    "##### d) Does this line up with which assets have the strongest Sharpe ratios?"
   ]
  },
  {
   "cell_type": "markdown",
   "metadata": {},
   "source": [
    "### 5  Simple Portfolios"
   ]
  },
  {
   "cell_type": "markdown",
   "metadata": {},
   "source": [
    "##### a) Calculate the performance of the equally-weighted portfolio over the sample. Rescale the entire weighting vector to have target mean µ˜ = .01. Report its mean, volatility, and Sharpe ratio."
   ]
  },
  {
   "cell_type": "markdown",
   "metadata": {},
   "source": [
    "##### b) Calculate the performance of the “risk-parity” portfolio over the sample. Risk-parity is a term used in a variety of ways, but here we have in mind setting the weight of the portfolio to be proportional to the inverse of its full-sample volatility estimate. w^i = 1/σ_i; This will give the weight vector, w, but you will need to rescale it to have a target mean of µ˜ = .01."
   ]
  },
  {
   "cell_type": "markdown",
   "metadata": {},
   "source": [
    "##### c) How does these compare to the MV portfolio from problem 2.4?"
   ]
  },
  {
   "cell_type": "markdown",
   "metadata": {},
   "source": [
    "### 6  Out-of-Sample Performance\n",
    "#### Let’s divide the sample to both compute a portfolio and then check its performance out of sample."
   ]
  },
  {
   "cell_type": "markdown",
   "metadata": {},
   "source": [
    "##### a) Using only data through the end of 2020, compute w^p for µ˜p = .01, allocating to all 11 assets."
   ]
  },
  {
   "cell_type": "markdown",
   "metadata": {},
   "source": [
    "##### b) Using those weights, calculate the portfolio’s Sharpe ratio within that sample, through the end of 2021."
   ]
  },
  {
   "cell_type": "markdown",
   "metadata": {},
   "source": [
    "##### c) Again using those weights, (derived using data through 2020,) calculate the portfolio’s Sharpe ratio based on performance in 2022."
   ]
  }
 ],
 "metadata": {
  "kernelspec": {
   "display_name": "Python 3 (ipykernel)",
   "language": "python",
   "name": "python3"
  },
  "language_info": {
   "codemirror_mode": {
    "name": "ipython",
    "version": 3
   },
   "file_extension": ".py",
   "mimetype": "text/x-python",
   "name": "python",
   "nbconvert_exporter": "python",
   "pygments_lexer": "ipython3",
   "version": "3.8.13"
  }
 },
 "nbformat": 4,
 "nbformat_minor": 4
}
