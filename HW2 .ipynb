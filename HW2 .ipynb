{
 "cells": [
  {
   "cell_type": "code",
   "execution_count": 76,
   "id": "c8f0be03",
   "metadata": {},
   "outputs": [
    {
     "data": {
      "text/html": [
       "<div>\n",
       "<style scoped>\n",
       "    .dataframe tbody tr th:only-of-type {\n",
       "        vertical-align: middle;\n",
       "    }\n",
       "\n",
       "    .dataframe tbody tr th {\n",
       "        vertical-align: top;\n",
       "    }\n",
       "\n",
       "    .dataframe thead th {\n",
       "        text-align: right;\n",
       "    }\n",
       "</style>\n",
       "<table border=\"1\" class=\"dataframe\">\n",
       "  <thead>\n",
       "    <tr style=\"text-align: right;\">\n",
       "      <th></th>\n",
       "      <th>HFRIFWI Index</th>\n",
       "      <th>MLEIFCTR Index</th>\n",
       "      <th>MLEIFCTX Index</th>\n",
       "      <th>HDG US Equity</th>\n",
       "      <th>QAI US Equity</th>\n",
       "    </tr>\n",
       "    <tr>\n",
       "      <th>date</th>\n",
       "      <th></th>\n",
       "      <th></th>\n",
       "      <th></th>\n",
       "      <th></th>\n",
       "      <th></th>\n",
       "    </tr>\n",
       "  </thead>\n",
       "  <tbody>\n",
       "    <tr>\n",
       "      <th>2011-08-31</th>\n",
       "      <td>-0.032149</td>\n",
       "      <td>-0.025588</td>\n",
       "      <td>-0.025689</td>\n",
       "      <td>-0.027035</td>\n",
       "      <td>-0.006491</td>\n",
       "    </tr>\n",
       "    <tr>\n",
       "      <th>2011-09-30</th>\n",
       "      <td>-0.038903</td>\n",
       "      <td>-0.032414</td>\n",
       "      <td>-0.032593</td>\n",
       "      <td>-0.032466</td>\n",
       "      <td>-0.022142</td>\n",
       "    </tr>\n",
       "    <tr>\n",
       "      <th>2011-10-31</th>\n",
       "      <td>0.026858</td>\n",
       "      <td>0.043593</td>\n",
       "      <td>0.043320</td>\n",
       "      <td>0.050532</td>\n",
       "      <td>0.025241</td>\n",
       "    </tr>\n",
       "    <tr>\n",
       "      <th>2011-11-30</th>\n",
       "      <td>-0.013453</td>\n",
       "      <td>-0.012142</td>\n",
       "      <td>-0.012431</td>\n",
       "      <td>-0.028608</td>\n",
       "      <td>-0.007965</td>\n",
       "    </tr>\n",
       "    <tr>\n",
       "      <th>2011-12-31</th>\n",
       "      <td>-0.004479</td>\n",
       "      <td>0.001938</td>\n",
       "      <td>0.001796</td>\n",
       "      <td>0.012875</td>\n",
       "      <td>0.001854</td>\n",
       "    </tr>\n",
       "    <tr>\n",
       "      <th>...</th>\n",
       "      <td>...</td>\n",
       "      <td>...</td>\n",
       "      <td>...</td>\n",
       "      <td>...</td>\n",
       "      <td>...</td>\n",
       "    </tr>\n",
       "    <tr>\n",
       "      <th>2021-05-31</th>\n",
       "      <td>0.013401</td>\n",
       "      <td>0.000701</td>\n",
       "      <td>0.000666</td>\n",
       "      <td>-0.000784</td>\n",
       "      <td>0.005940</td>\n",
       "    </tr>\n",
       "    <tr>\n",
       "      <th>2021-06-30</th>\n",
       "      <td>0.005424</td>\n",
       "      <td>0.005985</td>\n",
       "      <td>0.005991</td>\n",
       "      <td>0.001052</td>\n",
       "      <td>0.002485</td>\n",
       "    </tr>\n",
       "    <tr>\n",
       "      <th>2021-07-31</th>\n",
       "      <td>-0.009095</td>\n",
       "      <td>-0.013890</td>\n",
       "      <td>-0.013766</td>\n",
       "      <td>-0.012520</td>\n",
       "      <td>-0.003409</td>\n",
       "    </tr>\n",
       "    <tr>\n",
       "      <th>2021-08-31</th>\n",
       "      <td>0.007628</td>\n",
       "      <td>0.009262</td>\n",
       "      <td>0.009286</td>\n",
       "      <td>0.007066</td>\n",
       "      <td>0.001245</td>\n",
       "    </tr>\n",
       "    <tr>\n",
       "      <th>2021-09-30</th>\n",
       "      <td>0.000000</td>\n",
       "      <td>-0.016711</td>\n",
       "      <td>-0.016641</td>\n",
       "      <td>-0.013486</td>\n",
       "      <td>-0.013360</td>\n",
       "    </tr>\n",
       "  </tbody>\n",
       "</table>\n",
       "<p>122 rows × 5 columns</p>\n",
       "</div>"
      ],
      "text/plain": [
       "            HFRIFWI Index  MLEIFCTR Index  MLEIFCTX Index  HDG US Equity  \\\n",
       "date                                                                       \n",
       "2011-08-31      -0.032149       -0.025588       -0.025689      -0.027035   \n",
       "2011-09-30      -0.038903       -0.032414       -0.032593      -0.032466   \n",
       "2011-10-31       0.026858        0.043593        0.043320       0.050532   \n",
       "2011-11-30      -0.013453       -0.012142       -0.012431      -0.028608   \n",
       "2011-12-31      -0.004479        0.001938        0.001796       0.012875   \n",
       "...                   ...             ...             ...            ...   \n",
       "2021-05-31       0.013401        0.000701        0.000666      -0.000784   \n",
       "2021-06-30       0.005424        0.005985        0.005991       0.001052   \n",
       "2021-07-31      -0.009095       -0.013890       -0.013766      -0.012520   \n",
       "2021-08-31       0.007628        0.009262        0.009286       0.007066   \n",
       "2021-09-30       0.000000       -0.016711       -0.016641      -0.013486   \n",
       "\n",
       "            QAI US Equity  \n",
       "date                       \n",
       "2011-08-31      -0.006491  \n",
       "2011-09-30      -0.022142  \n",
       "2011-10-31       0.025241  \n",
       "2011-11-30      -0.007965  \n",
       "2011-12-31       0.001854  \n",
       "...                   ...  \n",
       "2021-05-31       0.005940  \n",
       "2021-06-30       0.002485  \n",
       "2021-07-31      -0.003409  \n",
       "2021-08-31       0.001245  \n",
       "2021-09-30      -0.013360  \n",
       "\n",
       "[122 rows x 5 columns]"
      ]
     },
     "metadata": {},
     "output_type": "display_data"
    }
   ],
   "source": [
    "import pandas as pd\n",
    "import numpy as np\n",
    "import seaborn as sns\n",
    "from sklearn.linear_model import LinearRegression\n",
    "from datetime import datetime as dt\n",
    "\n",
    "equities = pd.read_excel(\"./proshares_analysis_data.xlsx\",sheet_name = \"hedge_fund_series\")\n",
    "equities.set_index('date', inplace = True)\n",
    "display(equities)"
   ]
  },
  {
   "cell_type": "markdown",
   "id": "64f6585e",
   "metadata": {},
   "source": [
    "## 1(a)(b)(c) Performance metrics "
   ]
  },
  {
   "cell_type": "code",
   "execution_count": 77,
   "id": "a10bf595",
   "metadata": {},
   "outputs": [
    {
     "data": {
      "text/html": [
       "<div>\n",
       "<style scoped>\n",
       "    .dataframe tbody tr th:only-of-type {\n",
       "        vertical-align: middle;\n",
       "    }\n",
       "\n",
       "    .dataframe tbody tr th {\n",
       "        vertical-align: top;\n",
       "    }\n",
       "\n",
       "    .dataframe thead th {\n",
       "        text-align: right;\n",
       "    }\n",
       "</style>\n",
       "<table border=\"1\" class=\"dataframe\">\n",
       "  <thead>\n",
       "    <tr style=\"text-align: right;\">\n",
       "      <th></th>\n",
       "      <th>Mean</th>\n",
       "      <th>Vol</th>\n",
       "      <th>Sharpe</th>\n",
       "    </tr>\n",
       "  </thead>\n",
       "  <tbody>\n",
       "    <tr>\n",
       "      <th>HFRIFWI Index</th>\n",
       "      <td>0.050784</td>\n",
       "      <td>0.061507</td>\n",
       "      <td>0.825665</td>\n",
       "    </tr>\n",
       "    <tr>\n",
       "      <th>MLEIFCTR Index</th>\n",
       "      <td>0.038821</td>\n",
       "      <td>0.053848</td>\n",
       "      <td>0.720933</td>\n",
       "    </tr>\n",
       "    <tr>\n",
       "      <th>MLEIFCTX Index</th>\n",
       "      <td>0.037330</td>\n",
       "      <td>0.053682</td>\n",
       "      <td>0.695382</td>\n",
       "    </tr>\n",
       "    <tr>\n",
       "      <th>HDG US Equity</th>\n",
       "      <td>0.028100</td>\n",
       "      <td>0.056380</td>\n",
       "      <td>0.498407</td>\n",
       "    </tr>\n",
       "    <tr>\n",
       "      <th>QAI US Equity</th>\n",
       "      <td>0.025491</td>\n",
       "      <td>0.045484</td>\n",
       "      <td>0.560434</td>\n",
       "    </tr>\n",
       "  </tbody>\n",
       "</table>\n",
       "</div>"
      ],
      "text/plain": [
       "                    Mean       Vol    Sharpe\n",
       "HFRIFWI Index   0.050784  0.061507  0.825665\n",
       "MLEIFCTR Index  0.038821  0.053848  0.720933\n",
       "MLEIFCTX Index  0.037330  0.053682  0.695382\n",
       "HDG US Equity   0.028100  0.056380  0.498407\n",
       "QAI US Equity   0.025491  0.045484  0.560434"
      ]
     },
     "metadata": {},
     "output_type": "display_data"
    }
   ],
   "source": [
    "def performanceMetrics(returns):\n",
    "    metrics = pd.DataFrame(index=returns.columns)\n",
    "    metrics['Mean'] = returns.mean()  * 12\n",
    "    metrics['Vol'] = returns.std() * np.sqrt(12)\n",
    "    metrics['Sharpe'] = (returns.mean() / returns.std()) * np.sqrt(12)\n",
    "\n",
    "    return metrics\n",
    "\n",
    "metrics = performanceMetrics(equities)\n",
    "display(metrics)"
   ]
  },
  {
   "cell_type": "markdown",
   "id": "000e16b2",
   "metadata": {},
   "source": [
    "## 2(a)(b)(c)(d) Tail risk "
   ]
  },
  {
   "cell_type": "code",
   "execution_count": 78,
   "id": "5e4bfc66",
   "metadata": {},
   "outputs": [
    {
     "data": {
      "text/html": [
       "<div>\n",
       "<style scoped>\n",
       "    .dataframe tbody tr th:only-of-type {\n",
       "        vertical-align: middle;\n",
       "    }\n",
       "\n",
       "    .dataframe tbody tr th {\n",
       "        vertical-align: top;\n",
       "    }\n",
       "\n",
       "    .dataframe thead th {\n",
       "        text-align: right;\n",
       "    }\n",
       "</style>\n",
       "<table border=\"1\" class=\"dataframe\">\n",
       "  <thead>\n",
       "    <tr style=\"text-align: right;\">\n",
       "      <th></th>\n",
       "      <th>Skewness</th>\n",
       "      <th>Kurtosis</th>\n",
       "      <th>VaR(5th)</th>\n",
       "      <th>CVaR(5th)</th>\n",
       "    </tr>\n",
       "  </thead>\n",
       "  <tbody>\n",
       "    <tr>\n",
       "      <th>HFRIFWI Index</th>\n",
       "      <td>-1.1092</td>\n",
       "      <td>6.7301</td>\n",
       "      <td>-0.0253</td>\n",
       "      <td>-0.0388</td>\n",
       "    </tr>\n",
       "    <tr>\n",
       "      <th>MLEIFCTR Index</th>\n",
       "      <td>-0.1867</td>\n",
       "      <td>2.4295</td>\n",
       "      <td>-0.0255</td>\n",
       "      <td>-0.0328</td>\n",
       "    </tr>\n",
       "    <tr>\n",
       "      <th>MLEIFCTX Index</th>\n",
       "      <td>-0.1716</td>\n",
       "      <td>2.3756</td>\n",
       "      <td>-0.0256</td>\n",
       "      <td>-0.0327</td>\n",
       "    </tr>\n",
       "    <tr>\n",
       "      <th>HDG US Equity</th>\n",
       "      <td>-0.1796</td>\n",
       "      <td>2.5817</td>\n",
       "      <td>-0.0285</td>\n",
       "      <td>-0.0348</td>\n",
       "    </tr>\n",
       "    <tr>\n",
       "      <th>QAI US Equity</th>\n",
       "      <td>-0.5451</td>\n",
       "      <td>2.6696</td>\n",
       "      <td>-0.0162</td>\n",
       "      <td>-0.0263</td>\n",
       "    </tr>\n",
       "  </tbody>\n",
       "</table>\n",
       "</div>"
      ],
      "text/plain": [
       "                Skewness  Kurtosis  VaR(5th)  CVaR(5th)\n",
       "HFRIFWI Index    -1.1092    6.7301   -0.0253    -0.0388\n",
       "MLEIFCTR Index   -0.1867    2.4295   -0.0255    -0.0328\n",
       "MLEIFCTX Index   -0.1716    2.3756   -0.0256    -0.0327\n",
       "HDG US Equity    -0.1796    2.5817   -0.0285    -0.0348\n",
       "QAI US Equity    -0.5451    2.6696   -0.0162    -0.0263"
      ]
     },
     "metadata": {},
     "output_type": "display_data"
    }
   ],
   "source": [
    "def tailRisk(returns):\n",
    "    tail = pd.DataFrame(index = returns.columns)\n",
    "    tail['Skewness'] = returns.skew()\n",
    "    tail['Kurtosis'] = returns.kurtosis()\n",
    "    tail['VaR(5th)'] = returns.quantile(0.05)\n",
    "    tail['CVaR(5th)'] = (returns[returns < returns.quantile(0.05)]).mean()\n",
    "    \n",
    "    return tail\n",
    "\n",
    "tail = tailRisk(equities)\n",
    "display(tail.round(4))"
   ]
  },
  {
   "cell_type": "markdown",
   "id": "96cc09e5",
   "metadata": {},
   "source": [
    "## 2(e) Maximum drawdown"
   ]
  },
  {
   "cell_type": "code",
   "execution_count": 79,
   "id": "4e93d36b",
   "metadata": {},
   "outputs": [
    {
     "data": {
      "text/html": [
       "<div>\n",
       "<style scoped>\n",
       "    .dataframe tbody tr th:only-of-type {\n",
       "        vertical-align: middle;\n",
       "    }\n",
       "\n",
       "    .dataframe tbody tr th {\n",
       "        vertical-align: top;\n",
       "    }\n",
       "\n",
       "    .dataframe thead th {\n",
       "        text-align: right;\n",
       "    }\n",
       "</style>\n",
       "<table border=\"1\" class=\"dataframe\">\n",
       "  <thead>\n",
       "    <tr style=\"text-align: right;\">\n",
       "      <th></th>\n",
       "      <th>Max Drawdown</th>\n",
       "      <th>Peak</th>\n",
       "      <th>Min</th>\n",
       "      <th>Recover</th>\n",
       "      <th>Peak to Recover</th>\n",
       "    </tr>\n",
       "  </thead>\n",
       "  <tbody>\n",
       "    <tr>\n",
       "      <th>HFRIFWI Index</th>\n",
       "      <td>-0.1155</td>\n",
       "      <td>2019-12-31</td>\n",
       "      <td>2020-03-31</td>\n",
       "      <td>2020-08-31</td>\n",
       "      <td>244 days</td>\n",
       "    </tr>\n",
       "    <tr>\n",
       "      <th>MLEIFCTR Index</th>\n",
       "      <td>-0.0845</td>\n",
       "      <td>2019-12-31</td>\n",
       "      <td>2020-03-31</td>\n",
       "      <td>2020-11-30</td>\n",
       "      <td>335 days</td>\n",
       "    </tr>\n",
       "    <tr>\n",
       "      <th>MLEIFCTX Index</th>\n",
       "      <td>-0.0837</td>\n",
       "      <td>2019-12-31</td>\n",
       "      <td>2020-03-31</td>\n",
       "      <td>2020-11-30</td>\n",
       "      <td>335 days</td>\n",
       "    </tr>\n",
       "    <tr>\n",
       "      <th>HDG US Equity</th>\n",
       "      <td>-0.0882</td>\n",
       "      <td>2020-01-31</td>\n",
       "      <td>2020-03-31</td>\n",
       "      <td>2020-11-30</td>\n",
       "      <td>304 days</td>\n",
       "    </tr>\n",
       "    <tr>\n",
       "      <th>QAI US Equity</th>\n",
       "      <td>-0.0756</td>\n",
       "      <td>2019-12-31</td>\n",
       "      <td>2020-03-31</td>\n",
       "      <td>2020-07-31</td>\n",
       "      <td>213 days</td>\n",
       "    </tr>\n",
       "  </tbody>\n",
       "</table>\n",
       "</div>"
      ],
      "text/plain": [
       "                Max Drawdown       Peak        Min    Recover Peak to Recover\n",
       "HFRIFWI Index        -0.1155 2019-12-31 2020-03-31 2020-08-31        244 days\n",
       "MLEIFCTR Index       -0.0845 2019-12-31 2020-03-31 2020-11-30        335 days\n",
       "MLEIFCTX Index       -0.0837 2019-12-31 2020-03-31 2020-11-30        335 days\n",
       "HDG US Equity        -0.0882 2020-01-31 2020-03-31 2020-11-30        304 days\n",
       "QAI US Equity        -0.0756 2019-12-31 2020-03-31 2020-07-31        213 days"
      ]
     },
     "metadata": {},
     "output_type": "display_data"
    }
   ],
   "source": [
    "def maximumDrawdown(returns):\n",
    "    cum_returns = (1 + returns).cumprod()\n",
    "    rolling_max = cum_returns.cummax()\n",
    "    drawdown = (cum_returns - rolling_max) / rolling_max\n",
    "    \n",
    "    max_drawdown = drawdown.min()\n",
    "    end_date = drawdown.idxmin()\n",
    "    summary = pd.DataFrame({'Max Drawdown': max_drawdown, 'Min':end_date})\n",
    "    \n",
    "    summary['Recover'] = None\n",
    "    for col in returns.columns:\n",
    "        idx = returns.index[(returns.index >= end_date[col]).argmax()]\n",
    "        check_recover = (cum_returns.loc[idx:,col] > rolling_max.loc[idx,col])\n",
    "        if check_recover.any():                \n",
    "            summary.loc[col,'Recover'] = check_recover.idxmax()            \n",
    "    summary['Recover'] = pd.to_datetime(summary['Recover'])\n",
    "    \n",
    "    summary.insert(loc=1, column='Peak',value=0)\n",
    "    for col in returns.columns:\n",
    "        df = rolling_max.copy()[[col]]\n",
    "        df.columns=['max']\n",
    "        df['max date'] = df.index\n",
    "        df = df.merge(df.groupby('max')[['max date']].first().reset_index(), on='max')\n",
    "        df.rename(columns={'max date_y': 'max date', 'max date_x': 'date'}, inplace=True)\n",
    "        df.set_index('date',inplace=True)\n",
    "\n",
    "        summary.loc[col,'Peak'] = df.loc[end_date[col],'max date']\n",
    "\n",
    "    summary['Peak'] = pd.to_datetime(summary['Peak'])\n",
    "    summary['Peak to Recover'] = (summary['Recover'] - summary['Peak'])\n",
    "        \n",
    "    return summary\n",
    "\n",
    "\n",
    "max_drawdown = maximumDrawdown(equities)\n",
    "display(max_drawdown.round(4))"
   ]
  },
  {
   "cell_type": "markdown",
   "id": "0c4b4048",
   "metadata": {},
   "source": [
    "## 3(a)(b)(c) Regression of hedge funds against SPY"
   ]
  },
  {
   "cell_type": "code",
   "execution_count": 80,
   "id": "1d7c186f",
   "metadata": {},
   "outputs": [
    {
     "data": {
      "text/html": [
       "<div>\n",
       "<style scoped>\n",
       "    .dataframe tbody tr th:only-of-type {\n",
       "        vertical-align: middle;\n",
       "    }\n",
       "\n",
       "    .dataframe tbody tr th {\n",
       "        vertical-align: top;\n",
       "    }\n",
       "\n",
       "    .dataframe thead th {\n",
       "        text-align: right;\n",
       "    }\n",
       "</style>\n",
       "<table border=\"1\" class=\"dataframe\">\n",
       "  <thead>\n",
       "    <tr style=\"text-align: right;\">\n",
       "      <th></th>\n",
       "      <th>SPY US Equity</th>\n",
       "    </tr>\n",
       "    <tr>\n",
       "      <th>date</th>\n",
       "      <th></th>\n",
       "    </tr>\n",
       "  </thead>\n",
       "  <tbody>\n",
       "    <tr>\n",
       "      <th>2011-08-31</th>\n",
       "      <td>-0.054976</td>\n",
       "    </tr>\n",
       "    <tr>\n",
       "      <th>2011-09-30</th>\n",
       "      <td>-0.069449</td>\n",
       "    </tr>\n",
       "    <tr>\n",
       "      <th>2011-10-31</th>\n",
       "      <td>0.109147</td>\n",
       "    </tr>\n",
       "    <tr>\n",
       "      <th>2011-11-30</th>\n",
       "      <td>-0.004064</td>\n",
       "    </tr>\n",
       "    <tr>\n",
       "      <th>2011-12-31</th>\n",
       "      <td>0.010440</td>\n",
       "    </tr>\n",
       "    <tr>\n",
       "      <th>...</th>\n",
       "      <td>...</td>\n",
       "    </tr>\n",
       "    <tr>\n",
       "      <th>2021-05-31</th>\n",
       "      <td>0.006566</td>\n",
       "    </tr>\n",
       "    <tr>\n",
       "      <th>2021-06-30</th>\n",
       "      <td>0.022473</td>\n",
       "    </tr>\n",
       "    <tr>\n",
       "      <th>2021-07-31</th>\n",
       "      <td>0.024412</td>\n",
       "    </tr>\n",
       "    <tr>\n",
       "      <th>2021-08-31</th>\n",
       "      <td>0.029760</td>\n",
       "    </tr>\n",
       "    <tr>\n",
       "      <th>2021-09-30</th>\n",
       "      <td>-0.046575</td>\n",
       "    </tr>\n",
       "  </tbody>\n",
       "</table>\n",
       "<p>122 rows × 1 columns</p>\n",
       "</div>"
      ],
      "text/plain": [
       "            SPY US Equity\n",
       "date                     \n",
       "2011-08-31      -0.054976\n",
       "2011-09-30      -0.069449\n",
       "2011-10-31       0.109147\n",
       "2011-11-30      -0.004064\n",
       "2011-12-31       0.010440\n",
       "...                   ...\n",
       "2021-05-31       0.006566\n",
       "2021-06-30       0.022473\n",
       "2021-07-31       0.024412\n",
       "2021-08-31       0.029760\n",
       "2021-09-30      -0.046575\n",
       "\n",
       "[122 rows x 1 columns]"
      ]
     },
     "metadata": {},
     "output_type": "display_data"
    }
   ],
   "source": [
    "merrill_factors = pd.read_excel(\"./proshares_analysis_data.xlsx\",sheet_name = \"merrill_factors\")\n",
    "merrill_factors.set_index('date', inplace = True)\n",
    "\n",
    "SPY = merrill_factors.iloc[:,:1]\n",
    "display(SPY)"
   ]
  },
  {
   "cell_type": "code",
   "execution_count": 81,
   "id": "181c153d",
   "metadata": {},
   "outputs": [
    {
     "data": {
      "text/html": [
       "<div>\n",
       "<style scoped>\n",
       "    .dataframe tbody tr th:only-of-type {\n",
       "        vertical-align: middle;\n",
       "    }\n",
       "\n",
       "    .dataframe tbody tr th {\n",
       "        vertical-align: top;\n",
       "    }\n",
       "\n",
       "    .dataframe thead th {\n",
       "        text-align: right;\n",
       "    }\n",
       "</style>\n",
       "<table border=\"1\" class=\"dataframe\">\n",
       "  <thead>\n",
       "    <tr style=\"text-align: right;\">\n",
       "      <th></th>\n",
       "      <th>alpha</th>\n",
       "      <th>SPY US Equity</th>\n",
       "      <th>r-squared</th>\n",
       "      <th>Info Ratio</th>\n",
       "      <th>Treynor</th>\n",
       "    </tr>\n",
       "  </thead>\n",
       "  <tbody>\n",
       "    <tr>\n",
       "      <th>HFRIFWI Index</th>\n",
       "      <td>-0.0074</td>\n",
       "      <td>0.3943</td>\n",
       "      <td>0.7531</td>\n",
       "      <td>-0.2420</td>\n",
       "      <td>0.1288</td>\n",
       "    </tr>\n",
       "    <tr>\n",
       "      <th>MLEIFCTR Index</th>\n",
       "      <td>-0.0142</td>\n",
       "      <td>0.3594</td>\n",
       "      <td>0.8162</td>\n",
       "      <td>-0.6153</td>\n",
       "      <td>0.1080</td>\n",
       "    </tr>\n",
       "    <tr>\n",
       "      <th>MLEIFCTX Index</th>\n",
       "      <td>-0.0155</td>\n",
       "      <td>0.3580</td>\n",
       "      <td>0.8150</td>\n",
       "      <td>-0.6713</td>\n",
       "      <td>0.1043</td>\n",
       "    </tr>\n",
       "    <tr>\n",
       "      <th>HDG US Equity</th>\n",
       "      <td>-0.0264</td>\n",
       "      <td>0.3692</td>\n",
       "      <td>0.7857</td>\n",
       "      <td>-1.0106</td>\n",
       "      <td>0.0761</td>\n",
       "    </tr>\n",
       "    <tr>\n",
       "      <th>QAI US Equity</th>\n",
       "      <td>-0.0166</td>\n",
       "      <td>0.2850</td>\n",
       "      <td>0.7194</td>\n",
       "      <td>-0.6873</td>\n",
       "      <td>0.0894</td>\n",
       "    </tr>\n",
       "  </tbody>\n",
       "</table>\n",
       "</div>"
      ],
      "text/plain": [
       "                 alpha  SPY US Equity  r-squared  Info Ratio  Treynor\n",
       "HFRIFWI Index  -0.0074         0.3943     0.7531     -0.2420   0.1288\n",
       "MLEIFCTR Index -0.0142         0.3594     0.8162     -0.6153   0.1080\n",
       "MLEIFCTX Index -0.0155         0.3580     0.8150     -0.6713   0.1043\n",
       "HDG US Equity  -0.0264         0.3692     0.7857     -1.0106   0.0761\n",
       "QAI US Equity  -0.0166         0.2850     0.7194     -0.6873   0.0894"
      ]
     },
     "execution_count": 81,
     "metadata": {},
     "output_type": "execute_result"
    }
   ],
   "source": [
    "def get_ols_metrics(regressors,targets,annualization=1):\n",
    "    \n",
    "    # ensure regressors and targets are pandas dataframes, as expected\n",
    "    if not isinstance(regressors,pd.DataFrame):\n",
    "        regressors = regressors.to_frame()\n",
    "    if not isinstance(targets,pd.DataFrame):\n",
    "        targets = targets.to_frame()\n",
    "\n",
    "    # align the targets and regressors on the same dates\n",
    "    df_aligned = targets.join(regressors,how='inner',lsuffix='y ')\n",
    "    Y = df_aligned[targets.columns]\n",
    "    X = df_aligned[regressors.columns]\n",
    "\n",
    "    reg = pd.DataFrame(index=targets.columns)\n",
    "    for col in Y.columns:\n",
    "        y = Y[col]\n",
    "        model = LinearRegression().fit(X,y)\n",
    "        reg.loc[col,'alpha'] = model.intercept_ * annualization\n",
    "        reg.loc[col,regressors.columns] = model.coef_\n",
    "        reg.loc[col,'r-squared'] = model.score(X,y)\n",
    "\n",
    "        # sklearn does not return the residuals, so we need to build them\n",
    "        yfit = model.predict(X)\n",
    "        residuals = y - yfit    \n",
    "        reg.loc[col,'Info Ratio'] = (model.intercept_ / residuals.std()) * np.sqrt(annualization)\n",
    "\n",
    "    return reg\n",
    "\n",
    "metrics_mkt = get_ols_metrics(merrill_factors['SPY US Equity'],equities,annualization = 12)\n",
    "metrics_mkt['Treynor'] = metrics['Mean'] / metrics_mkt['SPY US Equity']\n",
    "metrics_mkt.round(4)"
   ]
  },
  {
   "cell_type": "markdown",
   "id": "4fd9aa73",
   "metadata": {},
   "source": [
    "## 4(a) the differences between SPY and the hedge fund series are"
   ]
  },
  {
   "cell_type": "markdown",
   "id": "92bb0000",
   "metadata": {},
   "source": [
    "Market beta measures the risk to a hedge fund's return related to SPY - how much a hedge fund moves if SPY moves. In other words, it measures the tendency of a hedge fund's return to change in response to a change in SPY. The Treynor Ratio measures the excess return a hedge fund earns divided by each unit of risk (beta) the investment assumed. The information ratio measures expected return beyond what can be explained by the factor SPY divided by the non-factor volatility, or risk-adjusted alpha. Therefore, beta reveals that the HFRIFWI Index is riskiest regressed against SPY and QAI US Equity is least risky regressed against SPY. The Treynor Ratio reveals that the HFRIFWI Index generates the most excess return over each unit of risk it assumes regressed against SPY and HDG US Equity generates the least excess return over each unit of risk it assumes regressed against SPY. The information ratio for all of the hedge funds is negative, indicating that none of the hedge funds produced excess returns when regressed against SPY."
   ]
  },
  {
   "cell_type": "markdown",
   "id": "6a5ea8ed",
   "metadata": {},
   "source": [
    "## 4(b) QAI and HDG comparison"
   ]
  },
  {
   "cell_type": "markdown",
   "id": "4b180153",
   "metadata": {},
   "source": [
    "QAI is better than HDG. <br>\n",
    "From the regression, we see that both funds have relatively high r-squared, which means that the regression fits the data quite well. However, QAI has a bigger alpha than HDG, which means its return is simply higher than HDG on average. <br>\n",
    "From the Treynor ratio, we also see that the mean return to risk(beta) tradeoff in QAI is higher than HDG. <br>\n",
    "From the information ratio, we see that the non-factor component of return (alpha + epsilon) to risk for QAI is higher than HDG.\n",
    "Hence, from their alphas, Information ratio, and Treynor ratio, QAI performs better than HDG."
   ]
  },
  {
   "cell_type": "markdown",
   "id": "760008a3",
   "metadata": {},
   "source": [
    "## 4(c) If HDG and the ML series capture the most notable properties of HFRI"
   ]
  },
  {
   "cell_type": "markdown",
   "id": "268f5ec8",
   "metadata": {},
   "source": [
    "The HDG and the ML series do capture the most notable properties of HFR because they have the same signs for the alpha, information ratio, beta, Treynor ratio, R squared, and tracking error values. This indicates that these series behave similarly when regressed against SPY."
   ]
  },
  {
   "cell_type": "markdown",
   "id": "97ad842b",
   "metadata": {},
   "source": [
    "## 5(a) Correlation heatmap"
   ]
  },
  {
   "cell_type": "code",
   "execution_count": 82,
   "id": "52b872ce",
   "metadata": {},
   "outputs": [
    {
     "data": {
      "text/html": [
       "<div>\n",
       "<style scoped>\n",
       "    .dataframe tbody tr th:only-of-type {\n",
       "        vertical-align: middle;\n",
       "    }\n",
       "\n",
       "    .dataframe tbody tr th {\n",
       "        vertical-align: top;\n",
       "    }\n",
       "\n",
       "    .dataframe thead th {\n",
       "        text-align: right;\n",
       "    }\n",
       "</style>\n",
       "<table border=\"1\" class=\"dataframe\">\n",
       "  <thead>\n",
       "    <tr style=\"text-align: right;\">\n",
       "      <th></th>\n",
       "      <th>HFRIFWI Index</th>\n",
       "      <th>MLEIFCTR Index</th>\n",
       "      <th>MLEIFCTX Index</th>\n",
       "      <th>HDG US Equity</th>\n",
       "      <th>QAI US Equity</th>\n",
       "    </tr>\n",
       "  </thead>\n",
       "  <tbody>\n",
       "    <tr>\n",
       "      <th>HFRIFWI Index</th>\n",
       "      <td>1.000000</td>\n",
       "      <td>0.910392</td>\n",
       "      <td>0.910063</td>\n",
       "      <td>0.897653</td>\n",
       "      <td>0.866714</td>\n",
       "    </tr>\n",
       "    <tr>\n",
       "      <th>MLEIFCTR Index</th>\n",
       "      <td>0.910392</td>\n",
       "      <td>1.000000</td>\n",
       "      <td>0.999939</td>\n",
       "      <td>0.984621</td>\n",
       "      <td>0.864431</td>\n",
       "    </tr>\n",
       "    <tr>\n",
       "      <th>MLEIFCTX Index</th>\n",
       "      <td>0.910063</td>\n",
       "      <td>0.999939</td>\n",
       "      <td>1.000000</td>\n",
       "      <td>0.984471</td>\n",
       "      <td>0.863734</td>\n",
       "    </tr>\n",
       "    <tr>\n",
       "      <th>HDG US Equity</th>\n",
       "      <td>0.897653</td>\n",
       "      <td>0.984621</td>\n",
       "      <td>0.984471</td>\n",
       "      <td>1.000000</td>\n",
       "      <td>0.847597</td>\n",
       "    </tr>\n",
       "    <tr>\n",
       "      <th>QAI US Equity</th>\n",
       "      <td>0.866714</td>\n",
       "      <td>0.864431</td>\n",
       "      <td>0.863734</td>\n",
       "      <td>0.847597</td>\n",
       "      <td>1.000000</td>\n",
       "    </tr>\n",
       "  </tbody>\n",
       "</table>\n",
       "</div>"
      ],
      "text/plain": [
       "                HFRIFWI Index  MLEIFCTR Index  MLEIFCTX Index  HDG US Equity  \\\n",
       "HFRIFWI Index        1.000000        0.910392        0.910063       0.897653   \n",
       "MLEIFCTR Index       0.910392        1.000000        0.999939       0.984621   \n",
       "MLEIFCTX Index       0.910063        0.999939        1.000000       0.984471   \n",
       "HDG US Equity        0.897653        0.984621        0.984471       1.000000   \n",
       "QAI US Equity        0.866714        0.864431        0.863734       0.847597   \n",
       "\n",
       "                QAI US Equity  \n",
       "HFRIFWI Index        0.866714  \n",
       "MLEIFCTR Index       0.864431  \n",
       "MLEIFCTX Index       0.863734  \n",
       "HDG US Equity        0.847597  \n",
       "QAI US Equity        1.000000  "
      ]
     },
     "metadata": {},
     "output_type": "display_data"
    },
    {
     "data": {
      "text/plain": [
       "<AxesSubplot:>"
      ]
     },
     "execution_count": 82,
     "metadata": {},
     "output_type": "execute_result"
    },
    {
     "data": {
      "image/png": "[encoded data removed]",
      "text/plain": [
       "<Figure size 432x288 with 2 Axes>"
      ]
     },
     "metadata": {
      "needs_background": "light"
     },
     "output_type": "display_data"
    }
   ],
   "source": [
    "Corr_Matrix = equities.corr()\n",
    "display(Corr_Matrix)\n",
    "Corr_Matrix[Corr_Matrix == 1] = None #Nullify values of 1\n",
    "\n",
    "sns.heatmap(Corr_Matrix)"
   ]
  },
  {
   "cell_type": "markdown",
   "id": "290fb616",
   "metadata": {},
   "source": [
    "## 5(b) Highest and lowest correlation"
   ]
  },
  {
   "cell_type": "code",
   "execution_count": 92,
   "id": "406496b2",
   "metadata": {},
   "outputs": [
    {
     "name": "stdout",
     "output_type": "stream",
     "text": [
      "MIN Correlation pair is HFRIFWI Index\n",
      "MAX Correlation pair is QAI US Equity\n"
     ]
    }
   ],
   "source": [
    "corr_rank = Corr_Matrix .unstack().sort_values().dropna()\n",
    "pair_max = Corr_Matrix .index[-1]\n",
    "pair_min = Corr_Matrix .index[0]\n",
    "\n",
    "print(f'MIN Correlation pair is {pair_min}')\n",
    "print(f'MAX Correlation pair is {pair_max}')"
   ]
  },
  {
   "cell_type": "markdown",
   "id": "5e96facf",
   "metadata": {},
   "source": [
    "## 6(a) Replicate HFRI with the 6 factors in merrill_factors"
   ]
  },
  {
   "cell_type": "code",
   "execution_count": 97,
   "id": "c99af195",
   "metadata": {},
   "outputs": [
    {
     "data": {
      "text/html": [
       "<div>\n",
       "<style scoped>\n",
       "    .dataframe tbody tr th:only-of-type {\n",
       "        vertical-align: middle;\n",
       "    }\n",
       "\n",
       "    .dataframe tbody tr th {\n",
       "        vertical-align: top;\n",
       "    }\n",
       "\n",
       "    .dataframe thead th {\n",
       "        text-align: right;\n",
       "    }\n",
       "</style>\n",
       "<table border=\"1\" class=\"dataframe\">\n",
       "  <thead>\n",
       "    <tr style=\"text-align: right;\">\n",
       "      <th></th>\n",
       "      <th>alpha</th>\n",
       "      <th>SPY US Equity</th>\n",
       "      <th>USGG3M Index</th>\n",
       "      <th>EEM US Equity</th>\n",
       "      <th>EFA US Equity</th>\n",
       "      <th>EUO US Equity</th>\n",
       "      <th>IWM US Equity</th>\n",
       "      <th>r-squared</th>\n",
       "      <th>Info Ratio</th>\n",
       "    </tr>\n",
       "  </thead>\n",
       "  <tbody>\n",
       "    <tr>\n",
       "      <th>HFRIFWI Index</th>\n",
       "      <td>0.01376</td>\n",
       "      <td>0.072022</td>\n",
       "      <td>-0.400591</td>\n",
       "      <td>0.072159</td>\n",
       "      <td>0.106318</td>\n",
       "      <td>0.022431</td>\n",
       "      <td>0.130892</td>\n",
       "      <td>0.855695</td>\n",
       "      <td>0.588931</td>\n",
       "    </tr>\n",
       "  </tbody>\n",
       "</table>\n",
       "</div>"
      ],
      "text/plain": [
       "                 alpha  SPY US Equity  USGG3M Index  EEM US Equity  \\\n",
       "HFRIFWI Index  0.01376       0.072022     -0.400591       0.072159   \n",
       "\n",
       "               EFA US Equity  EUO US Equity  IWM US Equity  r-squared  \\\n",
       "HFRIFWI Index       0.106318       0.022431       0.130892   0.855695   \n",
       "\n",
       "               Info Ratio  \n",
       "HFRIFWI Index    0.588931  "
      ]
     },
     "metadata": {},
     "output_type": "display_data"
    },
    {
     "name": "stdout",
     "output_type": "stream",
     "text": [
      "Intercept is:  0.013760384058106352\n",
      "Betas are as displayed above in the form.\n"
     ]
    }
   ],
   "source": [
    "result = get_ols_metrics(merrill_factors,equities['HFRIFWI Index'],annualization = 12)\n",
    "display(result)\n",
    "#intercept = result[1:]\n",
    "print(\"Intercept is: \", result.loc['HFRIFWI Index','alpha'])\n",
    "print(\"Betas are as displayed above in the form.\")"
   ]
  },
  {
   "cell_type": "markdown",
   "id": "ec74d355",
   "metadata": {},
   "source": [
    "## 6(b) Are betas realistic"
   ]
  },
  {
   "cell_type": "markdown",
   "id": "4e611f00",
   "metadata": {},
   "source": [
    "The biggest shorting position is in USGG3M, with 40% of negative weight on this ETF. This is still a realistic position, so in general, the betas are realistic."
   ]
  },
  {
   "cell_type": "markdown",
   "id": "60ded685",
   "metadata": {},
   "source": [
    "## 6(c) R-Squared"
   ]
  },
  {
   "cell_type": "code",
   "execution_count": 98,
   "id": "8c3de41c",
   "metadata": {},
   "outputs": [
    {
     "name": "stdout",
     "output_type": "stream",
     "text": [
      "R-squared is 0.8556947723602492\n"
     ]
    }
   ],
   "source": [
    "print(\"R-squared is\", result.loc['HFRIFWI Index','r-squared'])"
   ]
  },
  {
   "cell_type": "markdown",
   "id": "62a42460",
   "metadata": {},
   "source": [
    "## 6(d) Volatility of random error"
   ]
  },
  {
   "cell_type": "code",
   "execution_count": 101,
   "id": "161802b5",
   "metadata": {},
   "outputs": [
    {
     "data": {
      "text/plain": [
       "HFRIFWI Index    0.023365\n",
       "dtype: float64"
      ]
     },
     "metadata": {},
     "output_type": "display_data"
    }
   ],
   "source": [
    "err_vol = result['alpha']/result['Info Ratio']\n",
    "display(err_vol)"
   ]
  },
  {
   "cell_type": "code",
   "execution_count": null,
   "id": "a77b1975",
   "metadata": {},
   "outputs": [],
   "source": []
  }
 ],
 "metadata": {
  "kernelspec": {
   "display_name": "Python 3",
   "language": "python",
   "name": "python3"
  },
  "language_info": {
   "codemirror_mode": {
    "name": "ipython",
    "version": 3
   },
   "file_extension": ".py",
   "mimetype": "text/x-python",
   "name": "python",
   "nbconvert_exporter": "python",
   "pygments_lexer": "ipython3",
   "version": "3.8.8"
  }
 },
 "nbformat": 4,
 "nbformat_minor": 5
}
